{
 "cells": [
  {
   "cell_type": "markdown",
   "metadata": {
    "collapsed": false,
    "jupyter": {
     "outputs_hidden": false
    }
   },
   "source": [
    "# Series结构\n",
    "Series结构是pandas的一维数据结构，由数据值和标签组成，数据值与标签一一对应。Series可以保存任何数据标签默认整数，从零开始递增。\n",
    "\n",
    "![Series结构](https://c.biancheng.net/uploads/allimg/210901/15400SM1-0.gif)\n"
   ]
  },
  {
   "cell_type": "markdown",
   "metadata": {
    "collapsed": false,
    "jupyter": {
     "outputs_hidden": false
    }
   },
   "source": [
    "## 创建Series对象\n",
    "创建Series对象使用\n",
    "```python\n",
    "import pandas as pd\n",
    "s=pd.Series( data, index, dtype, copy)\n",
    "```\n",
    "参数说明：\n",
    "\n",
    "| 参数名称  | 描述                                     |\n",
    "|-------|----------------------------------------|\n",
    "| data  | 输入的数据，可以是列表、常量、ndarray 数组等。            |\n",
    "| index | 索引值必须是惟一的，如果没有传递索引，则默认为 np.arrange(n)。 |\n",
    "| dtype | dtype表示数据类型，如果没有提供，则会自动判断得出。           |\n",
    "| copy  | 表示对 data 进行拷贝，默认为 False。               |\n",
    "\n",
    "\n",
    "1. 创建空Series"
   ]
  },
  {
   "cell_type": "code",
   "execution_count": 76,
   "metadata": {
    "ExecuteTime": {
     "end_time": "2024-02-07T02:56:18.797019Z",
     "start_time": "2024-02-07T02:56:18.674991Z"
    },
    "collapsed": false,
    "jupyter": {
     "outputs_hidden": false
    }
   },
   "outputs": [
    {
     "name": "stdout",
     "output_type": "stream",
     "text": [
      "Series([], dtype: object)\n"
     ]
    }
   ],
   "source": [
    "import pandas as pd\n",
    "\n",
    "s = pd.Series()\n",
    "print(s)"
   ]
  },
  {
   "cell_type": "markdown",
   "metadata": {
    "collapsed": false,
    "jupyter": {
     "outputs_hidden": false
    }
   },
   "source": [
    "2. ndarray创建Series\n",
    "ndarray是Numpy中的数组类型，传递索引参数时必须与数据相同长度，默认range(n)，n为数组长度\n",
    "\n",
    "**默认索引**"
   ]
  },
  {
   "cell_type": "code",
   "execution_count": 77,
   "metadata": {
    "ExecuteTime": {
     "end_time": "2024-02-07T02:56:18.797812Z",
     "start_time": "2024-02-07T02:56:18.679725Z"
    },
    "collapsed": false,
    "jupyter": {
     "outputs_hidden": false
    }
   },
   "outputs": [
    {
     "name": "stdout",
     "output_type": "stream",
     "text": [
      "0    1\n",
      "1    2\n",
      "2    3\n",
      "3    4\n",
      "4    5\n",
      "5    6\n",
      "dtype: int64\n"
     ]
    }
   ],
   "source": [
    "import pandas as pd\n",
    "import numpy as np\n",
    "\n",
    "data = np.array([1, 2, 3, 4, 5, 6])\n",
    "s = pd.Series(data)\n",
    "print(s)"
   ]
  },
  {
   "cell_type": "markdown",
   "metadata": {
    "collapsed": false,
    "jupyter": {
     "outputs_hidden": false
    }
   },
   "source": [
    "**指定索引**"
   ]
  },
  {
   "cell_type": "code",
   "execution_count": 78,
   "metadata": {
    "ExecuteTime": {
     "end_time": "2024-02-07T02:56:18.798394Z",
     "start_time": "2024-02-07T02:56:18.684471Z"
    },
    "collapsed": false,
    "jupyter": {
     "outputs_hidden": false
    }
   },
   "outputs": [
    {
     "name": "stdout",
     "output_type": "stream",
     "text": [
      "10    1\n",
      "20    2\n",
      "30    3\n",
      "40    4\n",
      "50    5\n",
      "60    6\n",
      "dtype: int64\n"
     ]
    }
   ],
   "source": [
    "import pandas as pd\n",
    "import numpy as np\n",
    "\n",
    "data = np.array([1, 2, 3, 4, 5, 6])\n",
    "s = pd.Series(data, index=[10, 20, 30, 40, 50, 60])\n",
    "print(s)"
   ]
  },
  {
   "cell_type": "markdown",
   "metadata": {
    "collapsed": false,
    "jupyter": {
     "outputs_hidden": false
    }
   },
   "source": [
    "3. dict创建Series\n",
    "使用dict创建Series，如果没有传索引，则索引为字典key，如果传了索引则将索引与字典key一一对应，没有对应数据则值为NaN\n",
    "\n",
    "**未传索引**"
   ]
  },
  {
   "cell_type": "code",
   "execution_count": 9,
   "metadata": {
    "ExecuteTime": {
     "end_time": "2024-02-07T02:56:18.798924Z",
     "start_time": "2024-02-07T02:56:18.688649Z"
    },
    "collapsed": false,
    "jupyter": {
     "outputs_hidden": false
    }
   },
   "outputs": [
    {
     "name": "stdout",
     "output_type": "stream",
     "text": [
      "a    1\n",
      "b    2\n",
      "c    3\n",
      "dtype: int64\n"
     ]
    }
   ],
   "source": [
    "import pandas as pd\n",
    "\n",
    "d = {'a': 1, 'b': 2, 'c': 3}\n",
    "s = pd.Series(d)\n",
    "print(s)"
   ]
  },
  {
   "cell_type": "markdown",
   "metadata": {
    "collapsed": false,
    "jupyter": {
     "outputs_hidden": false
    }
   },
   "source": [
    "**传索引**"
   ]
  },
  {
   "cell_type": "code",
   "execution_count": 80,
   "metadata": {
    "ExecuteTime": {
     "end_time": "2024-02-07T02:56:18.899890Z",
     "start_time": "2024-02-07T02:56:18.693744Z"
    },
    "collapsed": false,
    "jupyter": {
     "outputs_hidden": false
    }
   },
   "outputs": [
    {
     "name": "stdout",
     "output_type": "stream",
     "text": [
      "c    3.0\n",
      "b    2.0\n",
      "d    NaN\n",
      "dtype: float64\n"
     ]
    }
   ],
   "source": [
    "import pandas as pd\n",
    "\n",
    "d = {'a': 1, 'b': 2, 'c': 3}\n",
    "s = pd.Series(d, index=['c', 'b', 'd'])\n",
    "print(s)"
   ]
  },
  {
   "cell_type": "markdown",
   "metadata": {
    "collapsed": false,
    "jupyter": {
     "outputs_hidden": false
    }
   },
   "source": [
    "4. 常量创建Series\n",
    "如果数据是常量值，则必须提供索引，否则Series只有一个数据"
   ]
  },
  {
   "cell_type": "code",
   "execution_count": 81,
   "metadata": {
    "ExecuteTime": {
     "end_time": "2024-02-07T02:56:18.900698Z",
     "start_time": "2024-02-07T02:56:18.697408Z"
    },
    "collapsed": false,
    "jupyter": {
     "outputs_hidden": false
    }
   },
   "outputs": [
    {
     "name": "stdout",
     "output_type": "stream",
     "text": [
      "0    5\n",
      "1    5\n",
      "2    5\n",
      "dtype: int64\n"
     ]
    }
   ],
   "source": [
    "import pandas as pd\n",
    "\n",
    "s = pd.Series(5, index=range(3))\n",
    "print(s)"
   ]
  },
  {
   "cell_type": "markdown",
   "metadata": {
    "collapsed": false,
    "jupyter": {
     "outputs_hidden": false
    }
   },
   "source": [
    "## 访问Series数据\n",
    "1. 位置索引访问\n",
    "与ndarray和list相同，使用元素下标访问，从0开始"
   ]
  },
  {
   "cell_type": "code",
   "execution_count": 8,
   "metadata": {
    "collapsed": false,
    "jupyter": {
     "outputs_hidden": false
    },
    "ExecuteTime": {
     "end_time": "2024-02-07T08:05:21.217044Z",
     "start_time": "2024-02-07T08:05:21.197489Z"
    }
   },
   "outputs": [
    {
     "name": "stdout",
     "output_type": "stream",
     "text": [
      "位置下标\n",
      "3\n",
      "索引下标\n",
      "3\n",
      "切片访问\n",
      "c    3\n",
      "d    4\n",
      "dtype: int64\n",
      "切片访问最后2个元素\n",
      "c    3\n",
      "d    4\n",
      "dtype: int64\n"
     ]
    },
    {
     "name": "stderr",
     "output_type": "stream",
     "text": [
      "/var/folders/vh/tvpzvvcj6zl5nkcrj5j68cxm0000gn/T/ipykernel_55488/1558646467.py:5: FutureWarning: Series.__getitem__ treating keys as positions is deprecated. In a future version, integer keys will always be treated as labels (consistent with DataFrame behavior). To access a value by position, use `ser.iloc[pos]`\n",
      "  print(d[2])  #位置下标\n"
     ]
    }
   ],
   "source": [
    "import pandas as pd\n",
    "\n",
    "d = pd.Series([1, 2, 3, 4], index=['a', 'b', 'c', 'd'])\n",
    "print('位置下标')\n",
    "print(d[2])  #位置下标\n",
    "print('索引下标')\n",
    "print(d['c'])  #索引下标\n",
    "print('切片访问')\n",
    "print(d[2:])  #切片访问\n",
    "print('切片访问最后2个元素')\n",
    "print(d[-2:])  #切片访问最后2个元素"
   ]
  },
  {
   "cell_type": "markdown",
   "metadata": {
    "collapsed": false,
    "jupyter": {
     "outputs_hidden": false
    }
   },
   "source": [
    "2. 索引标签访问\n",
    "类似dict，把索引当作key，Series序列元素值当作value，不存在则报错"
   ]
  },
  {
   "cell_type": "code",
   "execution_count": 83,
   "metadata": {
    "ExecuteTime": {
     "end_time": "2024-02-07T02:56:19.028191Z",
     "start_time": "2024-02-07T02:56:18.711325Z"
    },
    "collapsed": false,
    "jupyter": {
     "outputs_hidden": false
    }
   },
   "outputs": [
    {
     "name": "stdout",
     "output_type": "stream",
     "text": [
      "索引标签访问\n",
      "3\n",
      "索引标签访问多个值\n",
      "a    1\n",
      "c    3\n",
      "d    4\n",
      "dtype: int64\n",
      "访问不存在的标签\n"
     ]
    },
    {
     "ename": "KeyError",
     "evalue": "'e'",
     "output_type": "error",
     "traceback": [
      "\u001B[0;31m---------------------------------------------------------------------------\u001B[0m",
      "\u001B[0;31mKeyError\u001B[0m                                  Traceback (most recent call last)",
      "File \u001B[0;32m/Library/Frameworks/Python.framework/Versions/3.9/lib/python3.9/site-packages/pandas/core/indexes/base.py:3802\u001B[0m, in \u001B[0;36mIndex.get_loc\u001B[0;34m(self, key)\u001B[0m\n\u001B[1;32m   3801\u001B[0m \u001B[38;5;28;01mtry\u001B[39;00m:\n\u001B[0;32m-> 3802\u001B[0m     \u001B[38;5;28;01mreturn\u001B[39;00m \u001B[38;5;28;43mself\u001B[39;49m\u001B[38;5;241;43m.\u001B[39;49m\u001B[43m_engine\u001B[49m\u001B[38;5;241;43m.\u001B[39;49m\u001B[43mget_loc\u001B[49m\u001B[43m(\u001B[49m\u001B[43mcasted_key\u001B[49m\u001B[43m)\u001B[49m\n\u001B[1;32m   3803\u001B[0m \u001B[38;5;28;01mexcept\u001B[39;00m \u001B[38;5;167;01mKeyError\u001B[39;00m \u001B[38;5;28;01mas\u001B[39;00m err:\n",
      "File \u001B[0;32mindex.pyx:153\u001B[0m, in \u001B[0;36mpandas._libs.index.IndexEngine.get_loc\u001B[0;34m()\u001B[0m\n",
      "File \u001B[0;32mindex.pyx:182\u001B[0m, in \u001B[0;36mpandas._libs.index.IndexEngine.get_loc\u001B[0;34m()\u001B[0m\n",
      "File \u001B[0;32mpandas/_libs/hashtable_class_helper.pxi:7081\u001B[0m, in \u001B[0;36mpandas._libs.hashtable.PyObjectHashTable.get_item\u001B[0;34m()\u001B[0m\n",
      "File \u001B[0;32mpandas/_libs/hashtable_class_helper.pxi:7089\u001B[0m, in \u001B[0;36mpandas._libs.hashtable.PyObjectHashTable.get_item\u001B[0;34m()\u001B[0m\n",
      "\u001B[0;31mKeyError\u001B[0m: 'e'",
      "\nThe above exception was the direct cause of the following exception:\n",
      "\u001B[0;31mKeyError\u001B[0m                                  Traceback (most recent call last)",
      "Cell \u001B[0;32mIn[83], line 9\u001B[0m\n\u001B[1;32m      7\u001B[0m \u001B[38;5;28mprint\u001B[39m(d[[\u001B[38;5;124m'\u001B[39m\u001B[38;5;124ma\u001B[39m\u001B[38;5;124m'\u001B[39m, \u001B[38;5;124m'\u001B[39m\u001B[38;5;124mc\u001B[39m\u001B[38;5;124m'\u001B[39m, \u001B[38;5;124m'\u001B[39m\u001B[38;5;124md\u001B[39m\u001B[38;5;124m'\u001B[39m]])  \u001B[38;5;66;03m#索引标签访问多个值\u001B[39;00m\n\u001B[1;32m      8\u001B[0m \u001B[38;5;28mprint\u001B[39m(\u001B[38;5;124m'\u001B[39m\u001B[38;5;124m访问不存在的标签\u001B[39m\u001B[38;5;124m'\u001B[39m)\n\u001B[0;32m----> 9\u001B[0m \u001B[38;5;28mprint\u001B[39m(\u001B[43md\u001B[49m\u001B[43m[\u001B[49m\u001B[38;5;124;43m'\u001B[39;49m\u001B[38;5;124;43me\u001B[39;49m\u001B[38;5;124;43m'\u001B[39;49m\u001B[43m]\u001B[49m)  \u001B[38;5;66;03m#访问不存在的标签\u001B[39;00m\n",
      "File \u001B[0;32m/Library/Frameworks/Python.framework/Versions/3.9/lib/python3.9/site-packages/pandas/core/series.py:1111\u001B[0m, in \u001B[0;36mSeries.__getitem__\u001B[0;34m(self, key)\u001B[0m\n\u001B[1;32m   1108\u001B[0m     \u001B[38;5;28;01mreturn\u001B[39;00m \u001B[38;5;28mself\u001B[39m\u001B[38;5;241m.\u001B[39m_values[key]\n\u001B[1;32m   1110\u001B[0m \u001B[38;5;28;01melif\u001B[39;00m key_is_scalar:\n\u001B[0;32m-> 1111\u001B[0m     \u001B[38;5;28;01mreturn\u001B[39;00m \u001B[38;5;28;43mself\u001B[39;49m\u001B[38;5;241;43m.\u001B[39;49m\u001B[43m_get_value\u001B[49m\u001B[43m(\u001B[49m\u001B[43mkey\u001B[49m\u001B[43m)\u001B[49m\n\u001B[1;32m   1113\u001B[0m \u001B[38;5;66;03m# Convert generator to list before going through hashable part\u001B[39;00m\n\u001B[1;32m   1114\u001B[0m \u001B[38;5;66;03m# (We will iterate through the generator there to check for slices)\u001B[39;00m\n\u001B[1;32m   1115\u001B[0m \u001B[38;5;28;01mif\u001B[39;00m is_iterator(key):\n",
      "File \u001B[0;32m/Library/Frameworks/Python.framework/Versions/3.9/lib/python3.9/site-packages/pandas/core/series.py:1227\u001B[0m, in \u001B[0;36mSeries._get_value\u001B[0;34m(self, label, takeable)\u001B[0m\n\u001B[1;32m   1224\u001B[0m     \u001B[38;5;28;01mreturn\u001B[39;00m \u001B[38;5;28mself\u001B[39m\u001B[38;5;241m.\u001B[39m_values[label]\n\u001B[1;32m   1226\u001B[0m \u001B[38;5;66;03m# Similar to Index.get_value, but we do not fall back to positional\u001B[39;00m\n\u001B[0;32m-> 1227\u001B[0m loc \u001B[38;5;241m=\u001B[39m \u001B[38;5;28;43mself\u001B[39;49m\u001B[38;5;241;43m.\u001B[39;49m\u001B[43mindex\u001B[49m\u001B[38;5;241;43m.\u001B[39;49m\u001B[43mget_loc\u001B[49m\u001B[43m(\u001B[49m\u001B[43mlabel\u001B[49m\u001B[43m)\u001B[49m\n\u001B[1;32m   1229\u001B[0m \u001B[38;5;28;01mif\u001B[39;00m is_integer(loc):\n\u001B[1;32m   1230\u001B[0m     \u001B[38;5;28;01mreturn\u001B[39;00m \u001B[38;5;28mself\u001B[39m\u001B[38;5;241m.\u001B[39m_values[loc]\n",
      "File \u001B[0;32m/Library/Frameworks/Python.framework/Versions/3.9/lib/python3.9/site-packages/pandas/core/indexes/base.py:3809\u001B[0m, in \u001B[0;36mIndex.get_loc\u001B[0;34m(self, key)\u001B[0m\n\u001B[1;32m   3804\u001B[0m     \u001B[38;5;28;01mif\u001B[39;00m \u001B[38;5;28misinstance\u001B[39m(casted_key, \u001B[38;5;28mslice\u001B[39m) \u001B[38;5;129;01mor\u001B[39;00m (\n\u001B[1;32m   3805\u001B[0m         \u001B[38;5;28misinstance\u001B[39m(casted_key, abc\u001B[38;5;241m.\u001B[39mIterable)\n\u001B[1;32m   3806\u001B[0m         \u001B[38;5;129;01mand\u001B[39;00m \u001B[38;5;28many\u001B[39m(\u001B[38;5;28misinstance\u001B[39m(x, \u001B[38;5;28mslice\u001B[39m) \u001B[38;5;28;01mfor\u001B[39;00m x \u001B[38;5;129;01min\u001B[39;00m casted_key)\n\u001B[1;32m   3807\u001B[0m     ):\n\u001B[1;32m   3808\u001B[0m         \u001B[38;5;28;01mraise\u001B[39;00m InvalidIndexError(key)\n\u001B[0;32m-> 3809\u001B[0m     \u001B[38;5;28;01mraise\u001B[39;00m \u001B[38;5;167;01mKeyError\u001B[39;00m(key) \u001B[38;5;28;01mfrom\u001B[39;00m \u001B[38;5;21;01merr\u001B[39;00m\n\u001B[1;32m   3810\u001B[0m \u001B[38;5;28;01mexcept\u001B[39;00m \u001B[38;5;167;01mTypeError\u001B[39;00m:\n\u001B[1;32m   3811\u001B[0m     \u001B[38;5;66;03m# If we have a listlike key, _check_indexing_error will raise\u001B[39;00m\n\u001B[1;32m   3812\u001B[0m     \u001B[38;5;66;03m#  InvalidIndexError. Otherwise we fall through and re-raise\u001B[39;00m\n\u001B[1;32m   3813\u001B[0m     \u001B[38;5;66;03m#  the TypeError.\u001B[39;00m\n\u001B[1;32m   3814\u001B[0m     \u001B[38;5;28mself\u001B[39m\u001B[38;5;241m.\u001B[39m_check_indexing_error(key)\n",
      "\u001B[0;31mKeyError\u001B[0m: 'e'"
     ]
    }
   ],
   "source": [
    "import pandas as pd\n",
    "\n",
    "d = pd.Series([1, 2, 3, 4], index=['a', 'b', 'c', 'd'])\n",
    "print('索引标签访问')\n",
    "print(d['c'])  #索引标签访问\n",
    "print('索引标签访问多个值')\n",
    "print(d[['a', 'c', 'd']])  #索引标签访问多个值\n",
    "print('访问不存在的标签')\n",
    "print(d['e'])  #访问不存在的标签"
   ]
  },
  {
   "cell_type": "markdown",
   "metadata": {
    "collapsed": false,
    "jupyter": {
     "outputs_hidden": false
    }
   },
   "source": [
    "## Series 常用属性\n",
    "\n",
    "| 名称     | 属性                          |\n",
    "|--------|-----------------------------|\n",
    "| axes   | 以列表形式返回所有行索引标签              |\n",
    "| dtype  | 返回对象的数据类型                   |\n",
    "| empty  | 返回一个空的Series对象              |\n",
    "| ndim   | 返回输入数据的维度                   |\n",
    "| size   | 返回数据的元素数量                   |\n",
    "| values | 以ndarray的形式返回Series对象       |\n",
    "| index  | 返回一个RangeIndex对象用来描述索引的取值范围 |"
   ]
  },
  {
   "cell_type": "markdown",
   "metadata": {
    "collapsed": false,
    "jupyter": {
     "outputs_hidden": false
    }
   },
   "source": [
    "## Series常用方法\n",
    "1. head()&tail()查看数据，若要查看部分数据，可以使用head()和tail()方法\n",
    "head(n)返回前n行数据，默认前5行"
   ]
  },
  {
   "cell_type": "code",
   "execution_count": null,
   "metadata": {
    "ExecuteTime": {
     "start_time": "2024-02-07T02:56:18.746121Z"
    },
    "collapsed": false,
    "jupyter": {
     "outputs_hidden": false
    }
   },
   "outputs": [],
   "source": [
    "import pandas as pd\n",
    "\n",
    "d = pd.Series(range(5))\n",
    "print(d)\n",
    "print('返回前3行')\n",
    "print(d.head(3))"
   ]
  },
  {
   "cell_type": "markdown",
   "metadata": {
    "collapsed": false,
    "jupyter": {
     "outputs_hidden": false
    }
   },
   "source": [
    "tail(n)返回最后n行数据，默认5行"
   ]
  },
  {
   "cell_type": "code",
   "execution_count": null,
   "metadata": {
    "ExecuteTime": {
     "start_time": "2024-02-07T02:56:18.748621Z"
    },
    "collapsed": false,
    "jupyter": {
     "outputs_hidden": false
    }
   },
   "outputs": [],
   "source": [
    "import pandas as pd\n",
    "\n",
    "d = pd.Series(range(5))\n",
    "print(d)\n",
    "print('返回后3行')\n",
    "print(d.tail(3))"
   ]
  },
  {
   "cell_type": "markdown",
   "metadata": {
    "collapsed": false,
    "jupyter": {
     "outputs_hidden": false
    }
   },
   "source": [
    "2. isnull和nonull检查缺失值\n",
    "即检查检查不存在、丢失、缺少的数据\n",
    "- isnull：如果值为不存在或缺失则返回True\n",
    "- nonull：如果值为不存在或缺失则返回False"
   ]
  },
  {
   "cell_type": "code",
   "execution_count": null,
   "metadata": {
    "ExecuteTime": {
     "start_time": "2024-02-07T02:56:18.750924Z"
    },
    "collapsed": false,
    "jupyter": {
     "outputs_hidden": false
    }
   },
   "outputs": [],
   "source": [
    "import pandas as pd\n",
    "\n",
    "d = pd.Series([1, 2, 4, 5, None])\n",
    "print(pd.isnull(d))\n",
    "print(pd.notnull(d))"
   ]
  },
  {
   "cell_type": "markdown",
   "metadata": {
    "collapsed": false,
    "jupyter": {
     "outputs_hidden": false
    }
   },
   "source": [
    "# DataFrame结构\n",
    "pandas在进行数据分析时最常用的数据结构之一。\n",
    "DataFrame是表格型的数据结构，既有行标签(index)，又有列标签(columns)，被称为异构数据表，即表格中每列的数据类型可以不同\n",
    "![DataFrame结构](https://c.biancheng.net/uploads/allimg/210901/154931A54-0.gif)\n",
    "上表中每列的数据类型如下\n",
    "\n",
    "| Column | Type    |\n",
    "|--------|---------|\n",
    "| name   | String  |\n",
    "| age    | Integer |\n",
    "| gender | String  |\n",
    "| rating | float   |\n",
    "\n",
    "DataFrame的每一列数据都可以看作是一个Series结构，只不过DataFrame为列添加了列标签\n",
    "\n",
    "DataFrame结构的特点\n",
    "- 表格型数据，有行和列\n",
    "- 每一列允许使用不同的数据类型\n",
    "- 每个数据值都可以修改\n",
    "- 行、列允许增加、删除\n",
    "- 可以对行和列执行算术运算\n",
    "- 有两个方向的标签轴，即行标签和列标签"
   ]
  },
  {
   "cell_type": "markdown",
   "metadata": {
    "collapsed": false,
    "jupyter": {
     "outputs_hidden": false
    }
   },
   "source": [
    "\n",
    "## 创建DataFrame对象\n",
    "语法格式\n",
    "```python\n",
    "import pandas as pd\n",
    "pd.DataFrame( data, index, columns, dtype, copy)\n",
    "```\n",
    "\n",
    "| 参数名称    | 说明                                                       |\n",
    "|---------|----------------------------------------------------------|\n",
    "| data    | 输入的数据，可以是 ndarray，series，list，dict，标量以及一个 DataFrame。     |\n",
    "| index   | 行标签，如果没有传递 index 值，则默认行标签是 np.arange(n)，n 代表 data 的元素个数。 |\n",
    "| columns | 列标签，如果没有传递 columns 值，则默认列标签是 np.arange(n)。               |\n",
    "| dtype   | dtype表示每一列的数据类型。                                         |\n",
    "| copy    | 默认为 False，表示复制数据 data。                                   |\n",
    "\n",
    "1. 空DataFrame对象"
   ]
  },
  {
   "cell_type": "code",
   "execution_count": null,
   "metadata": {
    "ExecuteTime": {
     "start_time": "2024-02-07T02:56:18.753620Z"
    },
    "collapsed": false,
    "jupyter": {
     "outputs_hidden": false
    }
   },
   "outputs": [],
   "source": [
    "import pandas as pd\n",
    "\n",
    "df = pd.DataFrame()\n",
    "print(df)"
   ]
  },
  {
   "cell_type": "markdown",
   "metadata": {
    "collapsed": false,
    "jupyter": {
     "outputs_hidden": false
    }
   },
   "source": [
    "2. 列表创建DataFrame\n",
    "可以使用简单列表或嵌套列表创建"
   ]
  },
  {
   "cell_type": "code",
   "execution_count": null,
   "metadata": {
    "ExecuteTime": {
     "start_time": "2024-02-07T02:56:18.756540Z"
    },
    "collapsed": false,
    "jupyter": {
     "outputs_hidden": false
    }
   },
   "outputs": [],
   "source": [
    "# 使用简单列表创建\n",
    "import pandas as pd\n",
    "\n",
    "data = [1, 2, 3, 4]\n",
    "df = pd.DataFrame(data)\n",
    "print(df)"
   ]
  },
  {
   "cell_type": "code",
   "execution_count": null,
   "metadata": {
    "ExecuteTime": {
     "start_time": "2024-02-07T02:56:18.758935Z"
    },
    "collapsed": false,
    "jupyter": {
     "outputs_hidden": false
    }
   },
   "outputs": [],
   "source": [
    "# 使用嵌套列表创建，列表长度不等，缺失数据为NaN\n",
    "import pandas as pd\n",
    "\n",
    "data = [['Jack', 20], ['Alice', 18], ['John', 25]]\n",
    "df = pd.DataFrame(data, index=[1, 2, 3], columns=['name', 'age'])\n",
    "print(df)"
   ]
  },
  {
   "cell_type": "markdown",
   "metadata": {
    "collapsed": false,
    "jupyter": {
     "outputs_hidden": false
    }
   },
   "source": [
    "3. 字典嵌套列表创建DataFrame\n",
    "字典中键对应的值的元素长度即数组长度需相同，若传索引则索引长度等于数组长度，默认range(n)，n为数组长度。"
   ]
  },
  {
   "cell_type": "code",
   "execution_count": null,
   "metadata": {
    "ExecuteTime": {
     "start_time": "2024-02-07T02:56:18.762172Z"
    },
    "collapsed": false,
    "jupyter": {
     "outputs_hidden": false
    }
   },
   "outputs": [],
   "source": [
    "import pandas as pd\n",
    "\n",
    "data = {'name': ['Jack', 'Alice', 'John'], 'age': [18, 22, 31]}\n",
    "df = pd.DataFrame(data, index=[1, 2, 3])\n",
    "print(df)"
   ]
  },
  {
   "cell_type": "markdown",
   "metadata": {
    "collapsed": false,
    "jupyter": {
     "outputs_hidden": false
    }
   },
   "source": []
  },
  {
   "cell_type": "markdown",
   "metadata": {
    "collapsed": false,
    "jupyter": {
     "outputs_hidden": false
    }
   },
   "source": [
    "4. 列表嵌套字典创建DataFrame\n",
    "字典键做列名，缺失的数据为NaN"
   ]
  },
  {
   "cell_type": "code",
   "execution_count": null,
   "metadata": {
    "ExecuteTime": {
     "start_time": "2024-02-07T02:56:18.763863Z"
    },
    "collapsed": false,
    "jupyter": {
     "outputs_hidden": false
    }
   },
   "outputs": [],
   "source": [
    "import pandas as pd\n",
    "\n",
    "data = [{'name': 'Jace', 'age': 18}, {'name': 'Alice', 'age': 32, }, {'name': 'John', 'age': 31, 'size': 3}, ]\n",
    "df = pd.DataFrame(data)\n",
    "print(df)"
   ]
  },
  {
   "cell_type": "markdown",
   "metadata": {
    "collapsed": false,
    "jupyter": {
     "outputs_hidden": false
    }
   },
   "source": [
    "5. Series创建DataFrame"
   ]
  },
  {
   "cell_type": "code",
   "execution_count": 84,
   "metadata": {
    "ExecuteTime": {
     "end_time": "2024-02-07T02:56:19.058677Z",
     "start_time": "2024-02-07T02:56:18.766363Z"
    },
    "collapsed": false,
    "jupyter": {
     "outputs_hidden": false
    }
   },
   "outputs": [
    {
     "name": "stdout",
     "output_type": "stream",
     "text": [
      "   one  two\n",
      "m  NaN  9.0\n",
      "w  1.0  NaN\n",
      "x  2.0  8.0\n",
      "y  3.0  7.0\n",
      "z  4.0  NaN\n"
     ]
    }
   ],
   "source": [
    "import pandas as pd\n",
    "\n",
    "d = {\n",
    "    'one': pd.Series([1, 2, 3, 4], index=['w', 'x', 'y', 'z']),\n",
    "    'two': pd.Series([9, 8, 7], index=['m', 'x', 'y'])\n",
    "}\n",
    "df = pd.DataFrame(d)\n",
    "print(df)"
   ]
  },
  {
   "cell_type": "markdown",
   "metadata": {
    "collapsed": false,
    "jupyter": {
     "outputs_hidden": false
    }
   },
   "source": [
    "## 列索引操作DataFrame\n",
    "DataFrame可以使用列列索引(column index)来完成选取，添加和删除操作\n",
    "\n",
    "1. 列索引选取数据列"
   ]
  },
  {
   "cell_type": "code",
   "execution_count": 85,
   "metadata": {
    "ExecuteTime": {
     "end_time": "2024-02-07T02:56:19.059760Z",
     "start_time": "2024-02-07T02:56:18.770384Z"
    },
    "collapsed": false,
    "jupyter": {
     "outputs_hidden": false
    }
   },
   "outputs": [
    {
     "name": "stdout",
     "output_type": "stream",
     "text": [
      "m    NaN\n",
      "w    1.0\n",
      "x    2.0\n",
      "y    3.0\n",
      "z    4.0\n",
      "Name: one, dtype: float64\n"
     ]
    }
   ],
   "source": [
    "import pandas as pd\n",
    "\n",
    "d = {\n",
    "    'one': pd.Series([1, 2, 3, 4], index=['w', 'x', 'y', 'z']),\n",
    "    'two': pd.Series([9, 8, 7], index=['m', 'x', 'y'])\n",
    "}\n",
    "df = pd.DataFrame(d)\n",
    "print(df['one'])"
   ]
  },
  {
   "cell_type": "markdown",
   "metadata": {
    "collapsed": false,
    "jupyter": {
     "outputs_hidden": false
    }
   },
   "source": [
    "2. 列索引添加数据列"
   ]
  },
  {
   "cell_type": "code",
   "execution_count": 86,
   "metadata": {
    "ExecuteTime": {
     "end_time": "2024-02-07T02:56:19.060342Z",
     "start_time": "2024-02-07T02:56:18.781336Z"
    },
    "collapsed": false,
    "jupyter": {
     "outputs_hidden": false
    }
   },
   "outputs": [
    {
     "name": "stdout",
     "output_type": "stream",
     "text": [
      "使用列索引创建新数据列\n",
      "   one  two  three\n",
      "m  NaN  9.0   10.0\n",
      "w  1.0  NaN    NaN\n",
      "x  2.0  8.0   20.0\n",
      "y  3.0  7.0   30.0\n",
      "z  4.0  NaN    NaN\n",
      "对已存在的数据列做加法运算\n",
      "   one  two  three  four\n",
      "m  NaN  9.0   10.0   NaN\n",
      "w  1.0  NaN    NaN   NaN\n",
      "x  2.0  8.0   20.0  10.0\n",
      "y  3.0  7.0   30.0  10.0\n",
      "z  4.0  NaN    NaN   NaN\n",
      "使用insert方法插入新的列\n",
      "   one  two  two.5  three  four\n",
      "m  NaN  9.0      3   10.0   NaN\n",
      "w  1.0  NaN      4    NaN   NaN\n",
      "x  2.0  8.0      5   20.0  10.0\n",
      "y  3.0  7.0     19   30.0  10.0\n",
      "z  4.0  NaN     20    NaN   NaN\n"
     ]
    }
   ],
   "source": [
    "import pandas as pd\n",
    "\n",
    "d = {\n",
    "    'one': pd.Series([1, 2, 3, 4], index=['w', 'x', 'y', 'z']),\n",
    "    'two': pd.Series([9, 8, 7], index=['m', 'x', 'y'])\n",
    "}\n",
    "df = pd.DataFrame(d)\n",
    "print('使用列索引创建新数据列')\n",
    "df['three'] = pd.Series([10, 20, 30], index=['m', 'x', 'y'])\n",
    "print(df)\n",
    "print('对已存在的数据列做加法运算')\n",
    "df['four'] = df['one'] + df['two']\n",
    "print(df)\n",
    "print('使用insert方法插入新的列')\n",
    "df.insert(2, column='two.5', value=[3, 4, 5, 19, 20])  # value数组长度需和原来的列数组长度相等\n",
    "print(df)"
   ]
  },
  {
   "cell_type": "markdown",
   "metadata": {
    "collapsed": false,
    "jupyter": {
     "outputs_hidden": false
    }
   },
   "source": [
    "3. 索引删除数据列\n",
    "pop()和del都能够删除DataFrame中的数据列"
   ]
  },
  {
   "cell_type": "code",
   "execution_count": 87,
   "metadata": {
    "ExecuteTime": {
     "end_time": "2024-02-07T02:56:19.061934Z",
     "start_time": "2024-02-07T02:56:18.792756Z"
    },
    "collapsed": false,
    "jupyter": {
     "outputs_hidden": false
    }
   },
   "outputs": [
    {
     "name": "stdout",
     "output_type": "stream",
     "text": [
      "原DataFrame数据\n",
      "   one  two  three\n",
      "a  1.0    1   10.0\n",
      "b  2.0    2   20.0\n",
      "c  3.0    3   30.0\n",
      "d  NaN    4    NaN\n",
      "pop删除后数据\n",
      "   two  three\n",
      "a    1   10.0\n",
      "b    2   20.0\n",
      "c    3   30.0\n",
      "d    4    NaN\n",
      "del删除后数据\n",
      "   three\n",
      "a   10.0\n",
      "b   20.0\n",
      "c   30.0\n",
      "d    NaN\n"
     ]
    }
   ],
   "source": [
    "import pandas as pd\n",
    "\n",
    "d = {'one': pd.Series([1, 2, 3], index=['a', 'b', 'c']),\n",
    "     'two': pd.Series([1, 2, 3, 4], index=['a', 'b', 'c', 'd']),\n",
    "     'three': pd.Series([10, 20, 30], index=['a', 'b', 'c'])}\n",
    "df = pd.DataFrame(d)\n",
    "print('原DataFrame数据')\n",
    "print(df)\n",
    "print('pop删除后数据')\n",
    "df.pop('one')\n",
    "print(df)\n",
    "print('del删除后数据')\n",
    "del df['two']\n",
    "print(df)"
   ]
  },
  {
   "cell_type": "markdown",
   "metadata": {
    "collapsed": false,
    "jupyter": {
     "outputs_hidden": false
    }
   },
   "source": [
    "## 行索引操作DataFrame\n",
    "1. 标签索引选取\n",
    "将标签传给loc函数来选取数据"
   ]
  },
  {
   "cell_type": "code",
   "execution_count": 88,
   "metadata": {
    "ExecuteTime": {
     "end_time": "2024-02-07T02:56:19.062165Z",
     "start_time": "2024-02-07T02:56:18.802143Z"
    },
    "collapsed": false,
    "jupyter": {
     "outputs_hidden": false
    }
   },
   "outputs": [
    {
     "name": "stdout",
     "output_type": "stream",
     "text": [
      "one    1.0\n",
      "two    9.0\n",
      "Name: a, dtype: float64\n"
     ]
    }
   ],
   "source": [
    "import pandas as pd\n",
    "\n",
    "data = {'one': pd.Series([1, 2, 3, 4], index=['a', 'b', 'c', 'd']),\n",
    "        'two': pd.Series([9, 8, 7], index=['a', 'b', 'c'])}\n",
    "df = pd.DataFrame(data)\n",
    "print(df.loc['a'])"
   ]
  },
  {
   "cell_type": "markdown",
   "metadata": {
    "collapsed": false,
    "jupyter": {
     "outputs_hidden": false
    }
   },
   "source": [
    "    loc函数允许传入两个参数行和列，但只能接受标签索引"
   ]
  },
  {
   "cell_type": "markdown",
   "metadata": {
    "collapsed": false,
    "jupyter": {
     "outputs_hidden": false
    }
   },
   "source": [
    "2. 整数索引选取\n",
    "将数据行所在的索引位置传给iloc函数选取"
   ]
  },
  {
   "cell_type": "code",
   "execution_count": 89,
   "metadata": {
    "ExecuteTime": {
     "end_time": "2024-02-07T02:56:19.097165Z",
     "start_time": "2024-02-07T02:56:18.811828Z"
    },
    "collapsed": false,
    "jupyter": {
     "outputs_hidden": false
    }
   },
   "outputs": [
    {
     "name": "stdout",
     "output_type": "stream",
     "text": [
      "one    3.0\n",
      "two    7.0\n",
      "Name: c, dtype: float64\n"
     ]
    }
   ],
   "source": [
    "import pandas as pd\n",
    "\n",
    "data = {'one': pd.Series([1, 2, 3, 4], index=['a', 'b', 'c', 'd']),\n",
    "        'two': pd.Series([9, 8, 7], index=['a', 'b', 'c'])}\n",
    "df = pd.DataFrame(data)\n",
    "print(df.iloc[2])"
   ]
  },
  {
   "cell_type": "markdown",
   "metadata": {
    "collapsed": false,
    "jupyter": {
     "outputs_hidden": false
    }
   },
   "source": [
    "iloc允许传入两个参数行和列，但只能接受整数索引"
   ]
  },
  {
   "cell_type": "markdown",
   "metadata": {
    "collapsed": false,
    "jupyter": {
     "outputs_hidden": false
    }
   },
   "source": [
    "3. 切片操作多行选取"
   ]
  },
  {
   "cell_type": "code",
   "execution_count": 90,
   "metadata": {
    "ExecuteTime": {
     "end_time": "2024-02-07T02:56:19.097631Z",
     "start_time": "2024-02-07T02:56:18.820694Z"
    },
    "collapsed": false,
    "jupyter": {
     "outputs_hidden": false
    }
   },
   "outputs": [
    {
     "name": "stdout",
     "output_type": "stream",
     "text": [
      "   one  two\n",
      "a    1  9.0\n",
      "b    2  8.0\n"
     ]
    }
   ],
   "source": [
    "import pandas as pd\n",
    "\n",
    "data = {'one': pd.Series([1, 2, 3, 4], index=['a', 'b', 'c', 'd']),\n",
    "        'two': pd.Series([9, 8, 7], index=['a', 'b', 'c'])}\n",
    "df = pd.DataFrame(data)\n",
    "print(df[:2])  #左闭又开"
   ]
  },
  {
   "cell_type": "markdown",
   "metadata": {
    "collapsed": false,
    "jupyter": {
     "outputs_hidden": false
    }
   },
   "source": [
    "4. 添加数据行\n",
    "使用concat函数可以在将多个DataFrame链接成一个，达到添加数据行效果"
   ]
  },
  {
   "cell_type": "code",
   "execution_count": 91,
   "metadata": {
    "ExecuteTime": {
     "end_time": "2024-02-07T02:56:19.097904Z",
     "start_time": "2024-02-07T02:56:18.828027Z"
    },
    "collapsed": false,
    "jupyter": {
     "outputs_hidden": false
    }
   },
   "outputs": [
    {
     "name": "stdout",
     "output_type": "stream",
     "text": [
      "   one  two\n",
      "a    1  9.0\n",
      "b    2  8.0\n",
      "c    3  7.0\n",
      "d    4  NaN\n",
      "a    1  9.0\n",
      "b    2  8.0\n",
      "c    3  7.0\n",
      "d    4  NaN\n"
     ]
    }
   ],
   "source": [
    "import pandas as pd\n",
    "\n",
    "data = {'one': pd.Series([1, 2, 3, 4], index=['a', 'b', 'c', 'd']),\n",
    "        'two': pd.Series([9, 8, 7], index=['a', 'b', 'c'])}\n",
    "df1 = pd.DataFrame(data)\n",
    "df2 = pd.DataFrame(data)\n",
    "print(pd.concat([df1, df2]))"
   ]
  },
  {
   "cell_type": "markdown",
   "metadata": {
    "collapsed": false,
    "jupyter": {
     "outputs_hidden": false
    }
   },
   "source": [
    "5. 删除数据行\n",
    "可以使用索引标签从DataFrame中删除某一行数据，如果索引标签重复，则一起删除"
   ]
  },
  {
   "cell_type": "code",
   "execution_count": 101,
   "metadata": {
    "ExecuteTime": {
     "end_time": "2024-02-07T02:57:51.852280Z",
     "start_time": "2024-02-07T02:57:51.779376Z"
    },
    "collapsed": false,
    "jupyter": {
     "outputs_hidden": false
    }
   },
   "outputs": [
    {
     "name": "stdout",
     "output_type": "stream",
     "text": [
      "   one  two\n",
      "a    1  9.0\n",
      "b    2  8.0\n",
      "c    3  7.0\n",
      "d    4  NaN\n",
      "   one  two\n",
      "a    1  9.0\n",
      "b    2  8.0\n",
      "c    3  7.0\n"
     ]
    }
   ],
   "source": [
    "data = {'one': pd.Series([1, 2, 3, 4], index=['a', 'b', 'c', 'd']),\n",
    "        'two': pd.Series([9, 8, 7], index=['a', 'b', 'c'])}\n",
    "df = pd.DataFrame(data)\n",
    "print(df)\n",
    "df = df.drop('d')\n",
    "print(df)"
   ]
  },
  {
   "cell_type": "markdown",
   "metadata": {
    "collapsed": false,
    "jupyter": {
     "outputs_hidden": false
    }
   },
   "source": [
    "## 常用的属性和方法\n",
    "与Series类似\n",
    "\n",
    "| 名称      | 属性&方法描述                             |\n",
    "|---------|-------------------------------------|\n",
    "| T       | 行和列转置。                              |\n",
    "| axes    | 返回一个仅以行轴标签和列轴标签为成员的列表。              |\n",
    "| dtypes  | 返回每列数据的数据类型。                        |\n",
    "| empty   | DataFrame中没有数据或者任意坐标轴的长度为0，则返回True。 |\n",
    "| ndim    | 轴的数量，也指数组的维数。                       |\n",
    "| shape   | 返回一个元组，表示了 DataFrame 维度。            |\n",
    "| size    | DataFrame中的元素数量。                    |\n",
    "| values  | 使用 numpy 数组表示 DataFrame 中的元素值。      |\n",
    "| head()  | 返回前 n 行数据。                          |\n",
    "| tail()  | 返回后 n 行数据。                          |\n",
    "| shift() | 将行或列移动指定的步幅长度                       |"
   ]
  },
  {
   "cell_type": "markdown",
   "metadata": {
    "collapsed": false,
    "jupyter": {
     "outputs_hidden": false
    }
   },
   "source": [
    "创建演示数据"
   ]
  },
  {
   "cell_type": "code",
   "execution_count": 25,
   "metadata": {
    "ExecuteTime": {
     "end_time": "2024-02-07T03:43:51.234710Z",
     "start_time": "2024-02-07T03:43:51.219637Z"
    }
   },
   "outputs": [
    {
     "name": "stdout",
     "output_type": "stream",
     "text": [
      "     Name  years  Rating\n",
      "0  c语言中文网      5    4.23\n",
      "1     编程帮      6    3.24\n",
      "2      百度     15    3.98\n",
      "3   360搜索     28    2.56\n",
      "4      谷歌      3    3.20\n",
      "5     微学苑     19    4.60\n",
      "6  Bing搜索     23    3.80\n"
     ]
    }
   ],
   "source": [
    "import pandas as pd\n",
    "import numpy as np\n",
    "\n",
    "d = {'Name': pd.Series(['c语言中文网', '编程帮', \"百度\", '360搜索', '谷歌', '微学苑', 'Bing搜索']),\n",
    "     'years': pd.Series([5, 6, 15, 28, 3, 19, 23]),\n",
    "     'Rating': pd.Series([4.23, 3.24, 3.98, 2.56, 3.20, 4.6, 3.8])}\n",
    "#构建DataFrame\n",
    "df = pd.DataFrame(d)\n",
    "#输出series\n",
    "print(df)"
   ]
  },
  {
   "cell_type": "markdown",
   "metadata": {},
   "source": [
    "1. T：返回DataFrame的转置，即行列交换"
   ]
  },
  {
   "cell_type": "code",
   "execution_count": 50,
   "metadata": {
    "ExecuteTime": {
     "end_time": "2024-02-07T03:51:42.055222Z",
     "start_time": "2024-02-07T03:51:42.030740Z"
    }
   },
   "outputs": [
    {
     "name": "stdout",
     "output_type": "stream",
     "text": [
      "             0     1     2      3    4    5       6\n",
      "Name    c语言中文网   编程帮    百度  360搜索   谷歌  微学苑  Bing搜索\n",
      "years        5     6    15     28    3   19      23\n",
      "Rating    4.23  3.24  3.98   2.56  3.2  4.6     3.8\n"
     ]
    }
   ],
   "source": [
    "print(df.T)"
   ]
  },
  {
   "cell_type": "markdown",
   "metadata": {
    "collapsed": false,
    "jupyter": {
     "outputs_hidden": false
    }
   },
   "source": [
    "2. axes：返回有行标签和列标签组成的列表"
   ]
  },
  {
   "cell_type": "code",
   "execution_count": 49,
   "metadata": {
    "ExecuteTime": {
     "end_time": "2024-02-07T03:51:32.761565Z",
     "start_time": "2024-02-07T03:51:32.738408Z"
    }
   },
   "outputs": [
    {
     "name": "stdout",
     "output_type": "stream",
     "text": [
      "[RangeIndex(start=0, stop=7, step=1), Index(['Name', 'years', 'Rating'], dtype='object')]\n"
     ]
    }
   ],
   "source": [
    "print(df.axes)"
   ]
  },
  {
   "cell_type": "markdown",
   "metadata": {
    "collapsed": false,
    "jupyter": {
     "outputs_hidden": false
    }
   },
   "source": [
    "3. dtypes：返回每一列的数据类型"
   ]
  },
  {
   "cell_type": "code",
   "execution_count": 48,
   "metadata": {
    "collapsed": false,
    "jupyter": {
     "outputs_hidden": false
    },
    "ExecuteTime": {
     "end_time": "2024-02-07T03:51:26.078603Z",
     "start_time": "2024-02-07T03:51:26.051643Z"
    }
   },
   "outputs": [
    {
     "name": "stdout",
     "output_type": "stream",
     "text": [
      "Name       object\n",
      "years       int64\n",
      "Rating    float64\n",
      "dtype: object\n"
     ]
    }
   ],
   "source": [
    "print(df.dtypes)"
   ]
  },
  {
   "cell_type": "markdown",
   "metadata": {
    "collapsed": false,
    "jupyter": {
     "outputs_hidden": false
    }
   },
   "source": [
    "4. empty：判断DataFrame是否为空"
   ]
  },
  {
   "cell_type": "code",
   "execution_count": 47,
   "metadata": {
    "collapsed": false,
    "jupyter": {
     "outputs_hidden": false
    },
    "ExecuteTime": {
     "end_time": "2024-02-07T03:51:20.866866Z",
     "start_time": "2024-02-07T03:51:20.824190Z"
    }
   },
   "outputs": [
    {
     "name": "stdout",
     "output_type": "stream",
     "text": [
      "False\n"
     ]
    }
   ],
   "source": [
    "print(df.empty)"
   ]
  },
  {
   "cell_type": "markdown",
   "metadata": {
    "collapsed": false,
    "jupyter": {
     "outputs_hidden": false
    }
   },
   "source": [
    "5. ndim: 返回DataFrame的维数"
   ]
  },
  {
   "cell_type": "code",
   "execution_count": 46,
   "metadata": {
    "collapsed": false,
    "jupyter": {
     "outputs_hidden": false
    },
    "ExecuteTime": {
     "end_time": "2024-02-07T03:51:14.800062Z",
     "start_time": "2024-02-07T03:51:14.773043Z"
    }
   },
   "outputs": [
    {
     "name": "stdout",
     "output_type": "stream",
     "text": [
      "2\n"
     ]
    }
   ],
   "source": [
    "print(df.ndim)"
   ]
  },
  {
   "cell_type": "markdown",
   "metadata": {
    "collapsed": false,
    "jupyter": {
     "outputs_hidden": false
    }
   },
   "source": [
    "6. shape: 返回DataFrame维度的元组，(a,b)a为行数，b为列数"
   ]
  },
  {
   "cell_type": "code",
   "execution_count": 45,
   "metadata": {
    "collapsed": false,
    "jupyter": {
     "outputs_hidden": false
    },
    "ExecuteTime": {
     "end_time": "2024-02-07T03:51:08.674561Z",
     "start_time": "2024-02-07T03:51:08.638093Z"
    }
   },
   "outputs": [
    {
     "name": "stdout",
     "output_type": "stream",
     "text": [
      "(7, 3)\n"
     ]
    }
   ],
   "source": [
    "print(df.shape)"
   ]
  },
  {
   "cell_type": "markdown",
   "metadata": {
    "collapsed": false,
    "jupyter": {
     "outputs_hidden": false
    }
   },
   "source": [
    "7. size：返回DataFrame中元素的数量"
   ]
  },
  {
   "cell_type": "code",
   "execution_count": 44,
   "metadata": {
    "collapsed": false,
    "jupyter": {
     "outputs_hidden": false
    },
    "ExecuteTime": {
     "end_time": "2024-02-07T03:51:03.226481Z",
     "start_time": "2024-02-07T03:51:03.196779Z"
    }
   },
   "outputs": [
    {
     "name": "stdout",
     "output_type": "stream",
     "text": [
      "21\n"
     ]
    }
   ],
   "source": [
    "print(df.size)"
   ]
  },
  {
   "cell_type": "markdown",
   "metadata": {
    "collapsed": false,
    "jupyter": {
     "outputs_hidden": false
    }
   },
   "source": [
    "8. values: 以ndarray形式返回DataFrame中的数据"
   ]
  },
  {
   "cell_type": "code",
   "execution_count": 43,
   "metadata": {
    "collapsed": false,
    "jupyter": {
     "outputs_hidden": false
    },
    "ExecuteTime": {
     "end_time": "2024-02-07T03:50:56.628556Z",
     "start_time": "2024-02-07T03:50:56.586960Z"
    }
   },
   "outputs": [
    {
     "name": "stdout",
     "output_type": "stream",
     "text": [
      "[['c语言中文网' 5 4.23]\n",
      " ['编程帮' 6 3.24]\n",
      " ['百度' 15 3.98]\n",
      " ['360搜索' 28 2.56]\n",
      " ['谷歌' 3 3.2]\n",
      " ['微学苑' 19 4.6]\n",
      " ['Bing搜索' 23 3.8]]\n"
     ]
    }
   ],
   "source": [
    "print(df.values)"
   ]
  },
  {
   "cell_type": "markdown",
   "metadata": {
    "collapsed": false,
    "jupyter": {
     "outputs_hidden": false
    }
   },
   "source": [
    "9. head()&tail()：查看DataFrame部分数据，head(n)查看前n行，tail(n)查看后n行，默认5行"
   ]
  },
  {
   "cell_type": "code",
   "execution_count": 41,
   "metadata": {
    "collapsed": false,
    "jupyter": {
     "outputs_hidden": false
    },
    "ExecuteTime": {
     "end_time": "2024-02-07T03:50:42.684078Z",
     "start_time": "2024-02-07T03:50:42.680487Z"
    }
   },
   "outputs": [
    {
     "name": "stdout",
     "output_type": "stream",
     "text": [
      "     Name  years  Rating\n",
      "0  c语言中文网      5    4.23\n",
      "1     编程帮      6    3.24\n",
      "2      百度     15    3.98\n",
      "3   360搜索     28    2.56\n",
      "4      谷歌      3    3.20\n"
     ]
    }
   ],
   "source": [
    "print(df.head())"
   ]
  },
  {
   "cell_type": "code",
   "execution_count": 51,
   "metadata": {
    "collapsed": false,
    "jupyter": {
     "outputs_hidden": false
    },
    "ExecuteTime": {
     "end_time": "2024-02-07T03:52:54.005603Z",
     "start_time": "2024-02-07T03:52:53.973326Z"
    }
   },
   "outputs": [
    {
     "name": "stdout",
     "output_type": "stream",
     "text": [
      "     Name  years  Rating\n",
      "5     微学苑     19     4.6\n",
      "6  Bing搜索     23     3.8\n"
     ]
    }
   ],
   "source": [
    "print(df.tail(2))"
   ]
  },
  {
   "cell_type": "markdown",
   "source": [
    "10. shift(): 移动行或列\n",
    "shift()函数语法格式\n",
    "```python\n",
    "DataFrame.shift(periods=1, freq=None, axis=0)\n",
    "```\n",
    "参数说明：\n",
    "\n",
    "| 参数名称       | 说明                                                 |\n",
    "|------------|----------------------------------------------------|\n",
    "| peroids    | 类型为int，表示在特定的轴上移动指定的步幅，可以是正数，也可以是负数，默认值为1。                 |\n",
    "| freq       | 日期偏移量，默认值为None，适用于时间序。取值为符合时间规则的字符串。               |\n",
    "| axis       | 如果是 0 或者 \"index\" 表示上下移动，如果是 1 或者 \"columns\" 则会左右移动。 |\n",
    "| fill_value | 该参数用来填充缺失值。                                        |\n",
    "\n"
   ],
   "metadata": {
    "collapsed": false
   }
  },
  {
   "cell_type": "code",
   "execution_count": 7,
   "outputs": [
    {
     "name": "stdout",
     "output_type": "stream",
     "text": [
      "   a_data  b_data  c_data\n",
      "0      40      20      22\n",
      "1      28      37      17\n",
      "2      39      41      11\n",
      "3      32      35      25\n",
      "4      18      45      15\n",
      "   a_data  b_data  c_data\n",
      "0    4444    4444    4444\n",
      "1    4444    4444    4444\n",
      "2    4444    4444    4444\n",
      "3      40      20      22\n",
      "4      28      37      17\n"
     ]
    }
   ],
   "source": [
    "import pandas as pd\n",
    "\n",
    "info = pd.DataFrame({'a_data': [40, 28, 39, 32, 18],\n",
    "                     'b_data': [20, 37, 41, 35, 45],\n",
    "                     'c_data': [22, 17, 11, 25, 15]})\n",
    "print(info)\n",
    "#移动幅度为3\n",
    "print(info.shift(periods=3, fill_value=4444))"
   ],
   "metadata": {
    "collapsed": false,
    "ExecuteTime": {
     "end_time": "2024-02-07T08:03:25.272777Z",
     "start_time": "2024-02-07T08:03:25.219328Z"
    }
   }
  }
 ],
 "metadata": {
  "kernelspec": {
   "display_name": "Python 3 (ipykernel)",
   "language": "python",
   "name": "python3"
  },
  "language_info": {
   "codemirror_mode": {
    "name": "ipython",
    "version": 3
   },
   "file_extension": ".py",
   "mimetype": "text/x-python",
   "name": "python",
   "nbconvert_exporter": "python",
   "pygments_lexer": "ipython3",
   "version": "3.9.13"
  }
 },
 "nbformat": 4,
 "nbformat_minor": 4
}
